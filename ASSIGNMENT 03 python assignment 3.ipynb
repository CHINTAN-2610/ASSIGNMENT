{
 "cells": [
  {
   "cell_type": "markdown",
   "id": "4f49458b",
   "metadata": {},
   "source": [
    "#Question 01 \n",
    "1.1 Write a Python Program to implement your own myreduce() function which works exactly  like Python's built-in function reduce()"
   ]
  },
  {
   "cell_type": "code",
   "execution_count": 37,
   "id": "bfc7ea3b",
   "metadata": {},
   "outputs": [],
   "source": [
    "#Following function is exctly do sum of list of the component where list insert as argumnet of the function\n",
    "def myreduce(list_number):\n",
    "    a = list_number[0]\n",
    "    b = list_number[1]\n",
    "    for i in range(0,len(list_number)):\n",
    "        a = a+b\n",
    "        if i == len(list_number)-2:\n",
    "            break\n",
    "        b = list_number[i+2]\n",
    "    return print(\"Sum of list of components is equal :\",a)\n",
    "    "
   ]
  },
  {
   "cell_type": "code",
   "execution_count": 38,
   "id": "6a4df362",
   "metadata": {},
   "outputs": [
    {
     "name": "stdout",
     "output_type": "stream",
     "text": [
      "Sum of list of components is equal : 26\n"
     ]
    }
   ],
   "source": [
    "myreduce([5,6,7,8])"
   ]
  },
  {
   "cell_type": "markdown",
   "id": "1532780a",
   "metadata": {},
   "source": [
    "1.2 Write a Python program to implement your own myfilter() function which works exactly  like Python's built-in function filter()"
   ]
  },
  {
   "cell_type": "code",
   "execution_count": 39,
   "id": "3f079c90",
   "metadata": {},
   "outputs": [],
   "source": [
    "#Following function is filter function which basically filter int from list \n",
    "def myfilter(list_mix):\n",
    "    output_list = []\n",
    "    for i in list_mix:\n",
    "        if type(i) == int:\n",
    "            output_list.append(i)\n",
    "    return output_list"
   ]
  },
  {
   "cell_type": "code",
   "execution_count": 40,
   "id": "afc06154",
   "metadata": {},
   "outputs": [
    {
     "data": {
      "text/plain": [
       "[1, 5, 6]"
      ]
     },
     "execution_count": 40,
     "metadata": {},
     "output_type": "execute_result"
    }
   ],
   "source": [
    "myfilter([1,5,6,\"chintan\",\"mihir\"])"
   ]
  },
  {
   "cell_type": "markdown",
   "id": "74f14a86",
   "metadata": {},
   "source": [
    "2. Implement List comprehensions to produce the following lists.  \n",
    "Write List comprehensions to produce the following Lists \n",
    "['A', 'C', 'A', 'D', 'G', 'I', ’L’, ‘ D’] \n",
    "['x', 'xx', 'xxx', 'xxxx', 'y', 'yy', 'yyy', 'yyyy', 'z', 'zz', 'zzz', 'zzzz']  \n",
    "['x', 'y', 'z', 'xx', 'yy', 'zz', 'xxx', 'yyy', 'zzz', 'xxxx', 'yyyy', 'zzzz']  \n",
    "[[2], [3], [4], [3], [4], [5], [4], [5], [6]] [[2, 3, 4, 5], [3, 4, 5, 6],  \n",
    "[4, 5, 6, 7], [5, 6, 7, 8]]\n"
   ]
  },
  {
   "cell_type": "code",
   "execution_count": 45,
   "id": "1c7cc8ca",
   "metadata": {},
   "outputs": [
    {
     "data": {
      "text/plain": [
       "[[2, 3, 4, 5], [3, 4, 5, 6], [4, 5, 6, 7], [5, 6, 7, 8]]"
      ]
     },
     "execution_count": 45,
     "metadata": {},
     "output_type": "execute_result"
    }
   ],
   "source": [
    "[list(range(i,i+4)) for i in [2,3,4,5] ]"
   ]
  },
  {
   "cell_type": "code",
   "execution_count": 58,
   "id": "4e1bf364",
   "metadata": {},
   "outputs": [
    {
     "name": "stdout",
     "output_type": "stream",
     "text": [
      "['x', 'xx', 'xxx', 'xxxx', 'y', 'yy', 'yyy', 'yyyy', 'z', 'zz', 'zzz', 'zzzz']\n"
     ]
    }
   ],
   "source": [
    "#whenever use append with list always print list with print function in last\n",
    "list_letter = []\n",
    "[list_letter.append(i*j) for i in ['x','y','z'] for j in range(1,5)]\n",
    "print(list_letter)"
   ]
  },
  {
   "cell_type": "code",
   "execution_count": 59,
   "id": "7a9e2faf",
   "metadata": {},
   "outputs": [
    {
     "name": "stdout",
     "output_type": "stream",
     "text": [
      "['x', 'y', 'z', 'xx', 'yy', 'zz', 'xxx', 'yyy', 'zzz', 'xxxx', 'yyyy', 'zzzz']\n"
     ]
    }
   ],
   "source": [
    "list_letter = []\n",
    "[list_letter.append(i*j)  for j in range(1,5) for i in ['x','y','z'] ]\n",
    "print(list_letter)"
   ]
  },
  {
   "cell_type": "code",
   "execution_count": 62,
   "id": "8134a594",
   "metadata": {},
   "outputs": [
    {
     "name": "stdout",
     "output_type": "stream",
     "text": [
      "[[2], [3], [4], [3], [4], [5], [4], [5], [6]]\n"
     ]
    }
   ],
   "source": [
    "list_number = []\n",
    "[list_number.append([i+j]) for i in [2,3,4] for j in [0,1,2]]\n",
    "print(list_number)"
   ]
  },
  {
   "cell_type": "code",
   "execution_count": 65,
   "id": "ba6ccce2",
   "metadata": {},
   "outputs": [
    {
     "data": {
      "text/plain": [
       "['A', 'C', 'A', 'D', 'G', 'I', 'L', 'E', 'D']"
      ]
     },
     "execution_count": 65,
     "metadata": {},
     "output_type": "execute_result"
    }
   ],
   "source": [
    "[ i for i in \"ACADGILED\"]"
   ]
  },
  {
   "cell_type": "code",
   "execution_count": null,
   "id": "b1abc62c",
   "metadata": {},
   "outputs": [],
   "source": []
  }
 ],
 "metadata": {
  "kernelspec": {
   "display_name": "Python 3",
   "language": "python",
   "name": "python3"
  },
  "language_info": {
   "codemirror_mode": {
    "name": "ipython",
    "version": 3
   },
   "file_extension": ".py",
   "mimetype": "text/x-python",
   "name": "python",
   "nbconvert_exporter": "python",
   "pygments_lexer": "ipython3",
   "version": "3.8.8"
  }
 },
 "nbformat": 4,
 "nbformat_minor": 5
}
