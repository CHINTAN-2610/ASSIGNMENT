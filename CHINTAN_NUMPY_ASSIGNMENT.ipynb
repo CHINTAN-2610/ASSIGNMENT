{
 "cells": [
  {
   "cell_type": "code",
   "execution_count": 1,
   "id": "791f4d0b",
   "metadata": {},
   "outputs": [],
   "source": [
    "import numpy as np\n",
    "import pandas as pd\n"
   ]
  },
  {
   "cell_type": "markdown",
   "id": "918f9b57",
   "metadata": {},
   "source": [
    "Question 1 : Write a function so that the columns of the output matrix are powers of the input\n",
    "vector.\n",
    "The order of the powers is determined by the increasing boolean argument. Specifically, when\n",
    "increasing is False, the i-th output column is the input vector raised element-wise to the power\n",
    "of N - i - 1.\n",
    "HINT: Such a matrix with a geometric progression in each row is named for Alexandre-\n",
    "Theophile Vandermonde."
   ]
  },
  {
   "cell_type": "code",
   "execution_count": 36,
   "id": "1f95731b",
   "metadata": {},
   "outputs": [],
   "source": [
    "def output_input_power(list_numbers,num):\n",
    "    try :\n",
    "        if type(list_numbers) == list and type(num) == int :\n",
    "            input_array = np.asarray(list_numbers)\n",
    "            output_increase = np.vander(input_array , num , increasing=True)\n",
    "            output_decrease = np.vander(input_array , num , increasing=False)\n",
    "    except Exception as e :\n",
    "        print(\"Please provide valid input!\" )\n",
    "    return output_increase , output_decrease\n"
   ]
  },
  {
   "cell_type": "code",
   "execution_count": 37,
   "id": "408f2da1",
   "metadata": {},
   "outputs": [
    {
     "data": {
      "text/plain": [
       "(array([[  1,   2,   4,   8,  16],\n",
       "        [  1,   4,  16,  64, 256],\n",
       "        [  1,   2,   4,   8,  16],\n",
       "        [  1,   5,  25, 125, 625],\n",
       "        [  1,   3,   9,  27,  81]]),\n",
       " array([[ 16,   8,   4,   2,   1],\n",
       "        [256,  64,  16,   4,   1],\n",
       "        [ 16,   8,   4,   2,   1],\n",
       "        [625, 125,  25,   5,   1],\n",
       "        [ 81,  27,   9,   3,   1]]))"
      ]
     },
     "execution_count": 37,
     "metadata": {},
     "output_type": "execute_result"
    }
   ],
   "source": [
    "output_input_power([2,4,2,5,3],5)"
   ]
  },
  {
   "cell_type": "markdown",
   "id": "1cb42c5a",
   "metadata": {},
   "source": [
    "Question 2 : Write a function to find moving average in an array over a window:\n",
    "Test it over [3, 5, 7, 2, 8, 10, 11, 65, 72, 81, 99, 100, 150] and window of 3."
   ]
  },
  {
   "cell_type": "code",
   "execution_count": 59,
   "id": "a1979103",
   "metadata": {},
   "outputs": [],
   "source": [
    "def moving_avg(list_number , window) :\n",
    "    sum_element , list_moving_avg = [0] , []\n",
    "    try :\n",
    "        if type(list_number) == list and type(window) == int :\n",
    "            for i,k in enumerate(list_number , 1) :\n",
    "                sum_element.append(sum_element[i-1]+k)\n",
    "                if i>= window :\n",
    "                    list_moving = (sum_element[i] - sum_element[i-window])/window\n",
    "                    list_moving_avg.append(list_moving)\n",
    "        \n",
    "        print(\"Number of element : \" , len(list_moving_avg))\n",
    "                    \n",
    "    except Exception as e :\n",
    "        print(\"Please input valid input!\" , e)\n",
    "     \n",
    "    return list_moving_avg\n",
    "\n",
    "    "
   ]
  },
  {
   "cell_type": "code",
   "execution_count": 60,
   "id": "517074c9",
   "metadata": {},
   "outputs": [
    {
     "name": "stdout",
     "output_type": "stream",
     "text": [
      "Number of element :  11\n"
     ]
    },
    {
     "data": {
      "text/plain": [
       "[5.0,\n",
       " 4.666666666666667,\n",
       " 5.666666666666667,\n",
       " 6.666666666666667,\n",
       " 9.666666666666666,\n",
       " 28.666666666666668,\n",
       " 49.333333333333336,\n",
       " 72.66666666666667,\n",
       " 84.0,\n",
       " 93.33333333333333,\n",
       " 116.33333333333333]"
      ]
     },
     "execution_count": 60,
     "metadata": {},
     "output_type": "execute_result"
    }
   ],
   "source": [
    "moving_avg([3, 5, 7, 2, 8, 10, 11, 65, 72, 81, 99, 100, 150],3)"
   ]
  },
  {
   "cell_type": "code",
   "execution_count": null,
   "id": "20c856e5",
   "metadata": {},
   "outputs": [],
   "source": []
  }
 ],
 "metadata": {
  "kernelspec": {
   "display_name": "Python 3",
   "language": "python",
   "name": "python3"
  },
  "language_info": {
   "codemirror_mode": {
    "name": "ipython",
    "version": 3
   },
   "file_extension": ".py",
   "mimetype": "text/x-python",
   "name": "python",
   "nbconvert_exporter": "python",
   "pygments_lexer": "ipython3",
   "version": "3.8.8"
  }
 },
 "nbformat": 4,
 "nbformat_minor": 5
}
