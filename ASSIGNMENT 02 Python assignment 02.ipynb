{
 "cells": [
  {
   "cell_type": "markdown",
   "id": "7e40d768",
   "metadata": {},
   "source": [
    "#question01 : Print following pattern "
   ]
  },
  {
   "cell_type": "code",
   "execution_count": 26,
   "id": "aa18fae4",
   "metadata": {},
   "outputs": [
    {
     "name": "stdout",
     "output_type": "stream",
     "text": [
      "*\n",
      "\n",
      "**\n",
      "\n",
      "***\n",
      "\n",
      "****\n",
      "\n",
      "*****\n",
      "\n",
      "****\n",
      "\n",
      "***\n",
      "\n",
      "**\n",
      "\n",
      "*\n",
      "\n"
     ]
    }
   ],
   "source": [
    "#Answer is Given Pattern given to print\n",
    "nc = 5\n",
    "for i in range(0,nc):\n",
    "    for j in range(0,i+1):\n",
    "        print(\"*\",end=\"\")\n",
    "    print(\"\\n\")\n",
    "for i in range(0,nc-1):\n",
    "    for j in range(0,nc-1-i):\n",
    "        print(\"*\",end=\"\")\n",
    "    print(\"\\n\")\n",
    "        "
   ]
  },
  {
   "cell_type": "markdown",
   "id": "375aa0b7",
   "metadata": {},
   "source": [
    "#Question 2 : write function that take input from user and reverse character"
   ]
  },
  {
   "cell_type": "code",
   "execution_count": 27,
   "id": "f7cca8fa",
   "metadata": {},
   "outputs": [
    {
     "name": "stdout",
     "output_type": "stream",
     "text": [
      "Please Enter Wrod : Chintan\n"
     ]
    },
    {
     "data": {
      "text/plain": [
       "'natnihC'"
      ]
     },
     "execution_count": 27,
     "metadata": {},
     "output_type": "execute_result"
    }
   ],
   "source": [
    "inputs = str(input(\"Please Enter Wrod : \"))\n",
    "inputs[-1::-1]\n"
   ]
  },
  {
   "cell_type": "code",
   "execution_count": null,
   "id": "18562076",
   "metadata": {},
   "outputs": [],
   "source": []
  }
 ],
 "metadata": {
  "kernelspec": {
   "display_name": "Python 3",
   "language": "python",
   "name": "python3"
  },
  "language_info": {
   "codemirror_mode": {
    "name": "ipython",
    "version": 3
   },
   "file_extension": ".py",
   "mimetype": "text/x-python",
   "name": "python",
   "nbconvert_exporter": "python",
   "pygments_lexer": "ipython3",
   "version": "3.8.8"
  }
 },
 "nbformat": 4,
 "nbformat_minor": 5
}
