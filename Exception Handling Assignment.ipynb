{
 "cells": [
  {
   "cell_type": "markdown",
   "id": "8454019a",
   "metadata": {},
   "source": [
    "1. Write a function to compute 5/0 and use try/except to catch the exceptions."
   ]
  },
  {
   "cell_type": "code",
   "execution_count": 8,
   "id": "6ce6bf6c",
   "metadata": {},
   "outputs": [
    {
     "name": "stdout",
     "output_type": "stream",
     "text": [
      "Please Enter Value :10\n",
      "Please Enter Value :5\n",
      "A is Devided by B 2.0\n"
     ]
    }
   ],
   "source": [
    "while True :\n",
    "    try :\n",
    "        a = int(input(\"Please Enter Value :\"))\n",
    "        b = int(input(\"Please Enter Value :\"))\n",
    "        c = a/b\n",
    "        print(\"A is Devided by B\" , c)\n",
    "        break\n",
    "    except :\n",
    "        print(\"please Enter valid Input Data\")\n",
    "        continue"
   ]
  },
  {
   "cell_type": "markdown",
   "id": "6422a1be",
   "metadata": {},
   "source": [
    "2. Implement a Python program to generate all sentences where subject is in\n",
    "[\"Americans\", \"Indians\"] and verb is in [\"Play\", \"watch\"] and the object is in\n",
    "[\"Baseball\",\"cricket\"]."
   ]
  },
  {
   "cell_type": "code",
   "execution_count": 14,
   "id": "7c2cce2d",
   "metadata": {},
   "outputs": [
    {
     "name": "stdout",
     "output_type": "stream",
     "text": [
      "Americans Play Baseball\n",
      "Americans Play cricket\n",
      "Americans watch Baseball\n",
      "Americans watch cricket\n",
      "Indians Play Baseball\n",
      "Indians Play cricket\n",
      "Indians watch Baseball\n",
      "Indians watch cricket\n"
     ]
    }
   ],
   "source": [
    "subject = [\"Americans\", \"Indians\"]\n",
    "verb    = [\"Play\", \"watch\"]\n",
    "objects  = [\"Baseball\",\"cricket\"]\n",
    "\n",
    "for i in subject :\n",
    "    for j in verb :\n",
    "        for k in objects :\n",
    "            print(i,j,k)"
   ]
  },
  {
   "cell_type": "code",
   "execution_count": null,
   "id": "aafa6c0f",
   "metadata": {},
   "outputs": [],
   "source": []
  },
  {
   "cell_type": "code",
   "execution_count": null,
   "id": "4a3a9e66",
   "metadata": {},
   "outputs": [],
   "source": []
  }
 ],
 "metadata": {
  "kernelspec": {
   "display_name": "Python 3",
   "language": "python",
   "name": "python3"
  },
  "language_info": {
   "codemirror_mode": {
    "name": "ipython",
    "version": 3
   },
   "file_extension": ".py",
   "mimetype": "text/x-python",
   "name": "python",
   "nbconvert_exporter": "python",
   "pygments_lexer": "ipython3",
   "version": "3.8.8"
  }
 },
 "nbformat": 4,
 "nbformat_minor": 5
}
