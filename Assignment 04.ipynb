{
 "cells": [
  {
   "cell_type": "markdown",
   "id": "de4aee41",
   "metadata": {},
   "source": [
    "# ASSIGNMENT 04\n"
   ]
  },
  {
   "cell_type": "markdown",
   "id": "35322723",
   "metadata": {},
   "source": [
    "NAME : PATEL CHINTAN "
   ]
  },
  {
   "cell_type": "markdown",
   "id": "441d66ff",
   "metadata": {},
   "source": [
    "1.1 Write a Python Program(with class concepts) to find the area of the triangle using the below\n",
    "formula.\n",
    "area = (s*(s-a)*(s-b)*(s-c)) ** 0.5\n",
    "Function to take the length of the sides of triangle from user should be defined in the parent\n",
    "class and function to calculate the area should be defined in subclass"
   ]
  },
  {
   "cell_type": "code",
   "execution_count": 1,
   "id": "777ccfea",
   "metadata": {},
   "outputs": [],
   "source": [
    "#Tringular is parent class and Area is subclass\n",
    "class Tringular :\n",
    "    def __init__(self) :\n",
    "            self.a = int(input(\"Please Enter Length of side 1 : \"))\n",
    "            self.b = int(input(\"Please Enter Length of side 2 : \"))\n",
    "            self.c = int(input(\"Please Enter Length of side 2 : \"))\n",
    "            \n",
    "class Area(Tringular) :\n",
    "    def __init__(self) :\n",
    "        super().__init__()\n",
    "        self.s = (self.a + self.b + self.c)/2\n",
    "        self.a = ((self.s*(self.s-self.a)*(self.s-self.b)*(self.s-self.c)) ** 0.5)\n",
    "        print(f\"Area of tringular is {self.a}\")\n",
    "        \n",
    "        "
   ]
  },
  {
   "cell_type": "code",
   "execution_count": 2,
   "id": "fb38233b",
   "metadata": {},
   "outputs": [
    {
     "name": "stdout",
     "output_type": "stream",
     "text": [
      "Please Enter Length of side 1 : 5\n",
      "Please Enter Length of side 2 : 5\n",
      "Please Enter Length of side 2 : 5\n",
      "Area of tringular is 10.825317547305483\n"
     ]
    }
   ],
   "source": [
    "Area = Area()"
   ]
  },
  {
   "cell_type": "markdown",
   "id": "281eb3aa",
   "metadata": {},
   "source": [
    "1.2 Write a function filter_long_words() that takes a list of words and an integer n and returns\n",
    "the list of words that are longer than n."
   ]
  },
  {
   "cell_type": "code",
   "execution_count": 3,
   "id": "2be688d1",
   "metadata": {},
   "outputs": [],
   "source": [
    "def filter_long_words(List , integer) :\n",
    "    word_list = []\n",
    "    for i in List :\n",
    "        if len(i) > integer :\n",
    "            word_list.append(i)\n",
    "    return word_list\n",
    "            "
   ]
  },
  {
   "cell_type": "code",
   "execution_count": 4,
   "id": "5af31b8b",
   "metadata": {},
   "outputs": [
    {
     "data": {
      "text/plain": [
       "['chintan']"
      ]
     },
     "execution_count": 4,
     "metadata": {},
     "output_type": "execute_result"
    }
   ],
   "source": [
    "filter_long_words([\"chintan\",\"manan\",\"sara\"],5)"
   ]
  },
  {
   "cell_type": "markdown",
   "id": "6216ac15",
   "metadata": {},
   "source": [
    "2.1 Write a Python program using function concept that maps list of words into a list of integers\n",
    "representing the lengths of the corresponding words.\n",
    "Hint: If a list [ ab,cde,erty] is passed on to the python function output should come as [2,3,4]\n",
    "Here 2,3 and 4 are the lengths of the words in the list."
   ]
  },
  {
   "cell_type": "code",
   "execution_count": 5,
   "id": "85b342a7",
   "metadata": {},
   "outputs": [
    {
     "data": {
      "text/plain": [
       "[7, 6, 6]"
      ]
     },
     "execution_count": 5,
     "metadata": {},
     "output_type": "execute_result"
    }
   ],
   "source": [
    "list(map(lambda x : len(x) , [\"chintan\",\"himani\",\"rajesh\"]))"
   ]
  },
  {
   "cell_type": "markdown",
   "id": "6eb1b05f",
   "metadata": {},
   "source": [
    "2.2 Write a Python function which takes a character (i.e. a string of length 1) and returns True if\n",
    "it is a vowel, False otherwise."
   ]
  },
  {
   "cell_type": "code",
   "execution_count": 14,
   "id": "6ca78e1e",
   "metadata": {},
   "outputs": [],
   "source": [
    "def character(char) :\n",
    "    if char == \"a\" and \"e\" and \"i\" and \"o\" and \"u\" :\n",
    "        return True\n",
    "    else :\n",
    "        return False"
   ]
  },
  {
   "cell_type": "code",
   "execution_count": 16,
   "id": "4429f661",
   "metadata": {},
   "outputs": [
    {
     "data": {
      "text/plain": [
       "True"
      ]
     },
     "execution_count": 16,
     "metadata": {},
     "output_type": "execute_result"
    }
   ],
   "source": [
    "character(\"a\")"
   ]
  },
  {
   "cell_type": "code",
   "execution_count": null,
   "id": "bca08c7b",
   "metadata": {},
   "outputs": [],
   "source": []
  }
 ],
 "metadata": {
  "kernelspec": {
   "display_name": "Python 3",
   "language": "python",
   "name": "python3"
  },
  "language_info": {
   "codemirror_mode": {
    "name": "ipython",
    "version": 3
   },
   "file_extension": ".py",
   "mimetype": "text/x-python",
   "name": "python",
   "nbconvert_exporter": "python",
   "pygments_lexer": "ipython3",
   "version": "3.8.8"
  }
 },
 "nbformat": 4,
 "nbformat_minor": 5
}
